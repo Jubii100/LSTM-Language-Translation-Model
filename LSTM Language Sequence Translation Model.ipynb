{
 "cells": [
  {
   "cell_type": "markdown",
   "metadata": {},
   "source": [
    "# Capstone Project\n",
    "## Neural translation model\n",
    "### Instructions\n",
    "\n",
    "In this notebook, you will create a neural network that translates from English to German. You will use concepts from throughout this course, including building more flexible model architectures, freezing layers, data processing pipeline and sequence modelling.\n",
    "\n",
    "This project is peer-assessed. Within this notebook you will find instructions in each section for how to complete the project. Pay close attention to the instructions as the peer review will be carried out according to a grading rubric that checks key parts of the project instructions. Feel free to add extra cells into the notebook as required.\n",
    "\n",
    "### How to submit\n",
    "\n",
    "When you have completed the Capstone project notebook, you will submit a pdf of the notebook for peer review. First ensure that the notebook has been fully executed from beginning to end, and all of the cell outputs are visible. This is important, as the grading rubric depends on the reviewer being able to view the outputs of your notebook. Save the notebook as a pdf (File -> Download as -> PDF via LaTeX). You should then submit this pdf for review.\n",
    "\n",
    "### Let's get started!\n",
    "\n",
    "We'll start by running some imports, and loading the dataset. For this project you are free to make further imports throughout the notebook as you wish. "
   ]
  },
  {
   "cell_type": "code",
   "execution_count": 1,
   "metadata": {},
   "outputs": [],
   "source": [
    "import tensorflow as tf\n",
    "import tensorflow_hub as hub\n",
    "import unicodedata\n",
    "import re\n",
    "import random\n",
    "import numpy as np\n",
    "import matplotlib.pyplot as plt\n",
    "\n",
    "from sklearn.model_selection import train_test_split\n",
    "from tensorflow.keras.preprocessing.text import Tokenizer\n",
    "from tensorflow.keras.preprocessing.sequence import pad_sequences"
   ]
  },
  {
   "cell_type": "markdown",
   "metadata": {},
   "source": [
    "![Flags overview image](data/germany_uk_flags.png)\n",
    "\n",
    "For the capstone project, you will use a language dataset from http://www.manythings.org/anki/ to build a neural translation model. This dataset consists of over 200,000 pairs of sentences in English and German. In order to make the training quicker, we will restrict to our dataset to 20,000 pairs. Feel free to change this if you wish - the size of the dataset used is not part of the grading rubric.\n",
    "\n",
    "Your goal is to develop a neural translation model from English to German, making use of a pre-trained English word embedding module."
   ]
  },
  {
   "cell_type": "code",
   "execution_count": 2,
   "metadata": {},
   "outputs": [],
   "source": [
    "# Run this cell to load the dataset\n",
    "\n",
    "NUM_EXAMPLES = 20000\n",
    "data_examples = []\n",
    "with open('data/deu.txt', 'r', encoding='utf8') as f:\n",
    "    for line in f.readlines():\n",
    "        if len(data_examples) < NUM_EXAMPLES:\n",
    "            data_examples.append(line)\n",
    "        else:\n",
    "            break"
   ]
  },
  {
   "cell_type": "code",
   "execution_count": 3,
   "metadata": {},
   "outputs": [],
   "source": [
    "# These functions preprocess English and German sentences\n",
    "\n",
    "def unicode_to_ascii(s):\n",
    "    return ''.join(c for c in unicodedata.normalize('NFD', s) if unicodedata.category(c) != 'Mn')\n",
    "\n",
    "def preprocess_sentence(sentence):\n",
    "    sentence = sentence.lower().strip()\n",
    "    sentence = re.sub(r\"ü\", 'ue', sentence)\n",
    "    sentence = re.sub(r\"ä\", 'ae', sentence)\n",
    "    sentence = re.sub(r\"ö\", 'oe', sentence)\n",
    "    sentence = re.sub(r'ß', 'ss', sentence)\n",
    "    \n",
    "    sentence = unicode_to_ascii(sentence)\n",
    "    sentence = re.sub(r\"([?.!,])\", r\" \\1 \", sentence)\n",
    "    sentence = re.sub(r\"[^a-z?.!,']+\", \" \", sentence)\n",
    "    sentence = re.sub(r'[\" \"]+', \" \", sentence)\n",
    "    \n",
    "    return sentence.strip()"
   ]
  },
  {
   "cell_type": "markdown",
   "metadata": {},
   "source": [
    "#### The custom translation model\n",
    "The following is a schematic of the custom translation model architecture you will develop in this project.\n",
    "\n",
    "![Model Schematic](data/neural_translation_model.png)\n",
    "\n",
    "Key:\n",
    "![Model key](data/neural_translation_model_key.png)\n",
    "\n",
    "The custom model consists of an encoder RNN and a decoder RNN. The encoder takes words of an English sentence as input, and uses a pre-trained word embedding to embed the words into a 128-dimensional space. To indicate the end of the input sentence, a special end token (in the same 128-dimensional space) is passed in as an input. This token is a TensorFlow Variable that is learned in the training phase (unlike the pre-trained word embedding, which is frozen).\n",
    "\n",
    "The decoder RNN takes the internal state of the encoder network as its initial state. A start token is passed in as the first input, which is embedded using a learned German word embedding. The decoder RNN then makes a prediction for the next German word, which during inference is then passed in as the following input, and this process is repeated until the special `<end>` token is emitted from the decoder."
   ]
  },
  {
   "cell_type": "markdown",
   "metadata": {},
   "source": [
    "## 1. Text preprocessing\n",
    "* Create separate lists of English and German sentences, and preprocess them using the `preprocess_sentence` function provided for you above.\n",
    "* Add a special `\"<start>\"` and `\"<end>\"` token to the beginning and end of every German sentence.\n",
    "* Use the Tokenizer class from the `tf.keras.preprocessing.text` module to tokenize the German sentences, ensuring that no character filters are applied. _Hint: use the Tokenizer's \"filter\" keyword argument._\n",
    "* Print out at least 5 randomly chosen examples of (preprocessed) English and German sentence pairs. For the German sentence, print out the text (with start and end tokens) as well as the tokenized sequence.\n",
    "* Pad the end of the tokenized German sequences with zeros, and batch the complete set of sequences into one numpy array."
   ]
  },
  {
   "cell_type": "code",
   "execution_count": 4,
   "metadata": {},
   "outputs": [],
   "source": [
    "# seperate data into english and german examples\n",
    "seperated_examples = [re.split(r'\\t', example) for example in data_examples]\n",
    "english_sentences = [example[0] for example in seperated_examples]\n",
    "german_sentences = [example[1] for example in seperated_examples]\n"
   ]
  },
  {
   "cell_type": "code",
   "execution_count": 5,
   "metadata": {
    "scrolled": true
   },
   "outputs": [
    {
     "name": "stdout",
     "output_type": "stream",
     "text": [
      "hi .\n",
      "hallo !\n",
      "hi .\n",
      "gruess gott !\n",
      "run !\n",
      "lauf !\n",
      "wow !\n",
      "potzdonner !\n",
      "wow !\n",
      "donnerwetter !\n"
     ]
    }
   ],
   "source": [
    "preprocessed_english_sentences = [preprocess_sentence(sentence) for sentence in english_sentences]\n",
    "preprocessed_german_sentences = [preprocess_sentence(sentence) for sentence in german_sentences]\n",
    "\n",
    "for i in range(5):\n",
    "    print(preprocessed_english_sentences[i])\n",
    "    print(preprocessed_german_sentences[i])"
   ]
  },
  {
   "cell_type": "code",
   "execution_count": 6,
   "metadata": {},
   "outputs": [],
   "source": [
    "preprocessed_german_sentences = [\"<start> \" + sentence + \" <end>\" for sentence in preprocessed_german_sentences]"
   ]
  },
  {
   "cell_type": "code",
   "execution_count": 7,
   "metadata": {},
   "outputs": [],
   "source": [
    "# Tokenize german sentences\n",
    "german_tokenizer = Tokenizer(filters='', lower=False)\n",
    "german_tokenizer.fit_on_texts(preprocessed_german_sentences)\n",
    "\n",
    "tokenized_german_sequences = german_tokenizer.texts_to_sequences(preprocessed_german_sentences)"
   ]
  },
  {
   "cell_type": "code",
   "execution_count": 8,
   "metadata": {},
   "outputs": [
    {
     "name": "stdout",
     "output_type": "stream",
     "text": [
      "Preprocessed English Sentence: i'm not a spy .\n",
      "Preprocessed German Sentence: <start> ich bin kein spion . <end>\n",
      "Tokenized German sequence: [1, 4, 15, 71, 1335, 3, 2]\n",
      "\n",
      "Preprocessed English Sentence: i like to eat .\n",
      "Preprocessed German Sentence: <start> ich mag was essen . <end>\n",
      "Tokenized German sequence: [1, 4, 51, 38, 154, 3, 2]\n",
      "\n",
      "Preprocessed English Sentence: i understand this .\n",
      "Preprocessed German Sentence: <start> ich verstehe das . <end>\n",
      "Tokenized German sequence: [1, 4, 336, 11, 3, 2]\n",
      "\n",
      "Preprocessed English Sentence: i'll do my best .\n",
      "Preprocessed German Sentence: <start> ich will mein bestes tun . <end>\n",
      "Tokenized German sequence: [1, 4, 66, 50, 647, 91, 3, 2]\n",
      "\n",
      "Preprocessed English Sentence: are you mad ?\n",
      "Preprocessed German Sentence: <start> bist du verrueckt ? <end>\n",
      "Tokenized German sequence: [1, 32, 13, 245, 7, 2]\n",
      "\n"
     ]
    }
   ],
   "source": [
    "# Show the preprocessed data so far\n",
    "\n",
    "num_examples = 5\n",
    "indices = random.sample(range(len(english_sentences)), num_examples)\n",
    "\n",
    "for i in indices:\n",
    "    print(\"Preprocessed English Sentence:\", preprocessed_english_sentences[i])\n",
    "    print(\"Preprocessed German Sentence:\", preprocessed_german_sentences[i])\n",
    "    print(\"Tokenized German sequence:\", tokenized_german_sequences[i])\n",
    "    print()"
   ]
  },
  {
   "cell_type": "code",
   "execution_count": 9,
   "metadata": {},
   "outputs": [
    {
     "name": "stdout",
     "output_type": "stream",
     "text": [
      "[[   1  405    9    2    0    0    0    0    0    0    0    0    0    0]\n",
      " [   1 3155  663    9    2    0    0    0    0    0    0    0    0    0]\n",
      " [   1  975    9    2    0    0    0    0    0    0    0    0    0    0]\n",
      " [   1 3156    9    2    0    0    0    0    0    0    0    0    0    0]\n",
      " [   1 3157    9    2    0    0    0    0    0    0    0    0    0    0]]\n"
     ]
    }
   ],
   "source": [
    "# pad german sequences\n",
    "german_max_length = max(len(seq) for seq in tokenized_german_sequences)\n",
    "padded_german_sequences = pad_sequences(tokenized_german_sequences, padding='post', maxlen=german_max_length)\n",
    "german_sequences_array = np.array(padded_german_sequences)\n",
    "\n",
    "print(german_sequences_array[:5])"
   ]
  },
  {
   "cell_type": "markdown",
   "metadata": {},
   "source": [
    "## 2. Prepare the data with tf.data.Dataset objects"
   ]
  },
  {
   "cell_type": "markdown",
   "metadata": {},
   "source": [
    "#### Load the embedding layer\n",
    "As part of the dataset preproceessing for this project, you will use a pre-trained English word embedding module from TensorFlow Hub. The URL for the module is https://tfhub.dev/google/tf2-preview/nnlm-en-dim128-with-normalization/1. This module has also been made available as a complete saved model in the folder `'./models/tf2-preview_nnlm-en-dim128_1'`. \n",
    "\n",
    "This embedding takes a batch of text tokens in a 1-D tensor of strings as input. It then embeds the separate tokens into a 128-dimensional space. \n",
    "\n",
    "The code to load and test the embedding layer is provided for you below.\n",
    "\n",
    "**NB:** this model can also be used as a sentence embedding module. The module will process each token by removing punctuation and splitting on spaces. It then averages the word embeddings over a sentence to give a single embedding vector. However, we will use it only as a word embedding module, and will pass each word in the input sentence as a separate token."
   ]
  },
  {
   "cell_type": "code",
   "execution_count": 10,
   "metadata": {},
   "outputs": [],
   "source": [
    "# load embedding model\n",
    "\n",
    "embedding_layer = tf.keras.models.load_model('./models/tf2-preview_nnlm-en-dim128_1')"
   ]
  },
  {
   "cell_type": "code",
   "execution_count": 11,
   "metadata": {},
   "outputs": [
    {
     "data": {
      "text/plain": [
       "TensorShape([7, 128])"
      ]
     },
     "execution_count": 11,
     "metadata": {},
     "output_type": "execute_result"
    }
   ],
   "source": [
    "# Test the layer\n",
    "\n",
    "embedding_layer(tf.constant([\"these\", \"aren't\", \"the\", \"droids\", \"you're\", \"looking\", \"for\"])).shape"
   ]
  },
  {
   "cell_type": "markdown",
   "metadata": {},
   "source": [
    "You should now prepare the training and validation Datasets.\n",
    "\n",
    "* Create a random training and validation set split of the data, reserving e.g. 20% of the data for validation (NB: each English dataset example is a single sentence string, and each German dataset example is a sequence of padded integer tokens).\n",
    "* Load the training and validation sets into a tf.data.Dataset object, passing in a tuple of English and German data for both training and validation sets.\n",
    "* Create a function to map over the datasets that splits each English sentence at spaces. Apply this function to both Dataset objects using the map method. _Hint: look at the tf.strings.split function._\n",
    "* Create a function to map over the datasets that embeds each sequence of English words using the loaded embedding layer/model. Apply this function to both Dataset objects using the map method.\n",
    "* Create a function to filter out dataset examples where the English sentence is more than 13 (embedded) tokens in length. Apply this function to both Dataset objects using the filter method.\n",
    "* Create a function to map over the datasets that pads each English sequence of embeddings with some distinct padding value before the sequence, so that each sequence is length 13. Apply this function to both Dataset objects using the map method. _Hint: look at the tf.pad function. You can extract a Tensor shape using tf.shape; you might also find the tf.math.maximum function useful._\n",
    "* Batch both training and validation Datasets with a batch size of 16.\n",
    "* Print the `element_spec` property for the training and validation Datasets. \n",
    "* Using the Dataset `.take(1)` method, print the shape of the English data example from the training Dataset.\n",
    "* Using the Dataset `.take(1)` method, print the German data example Tensor from the validation Dataset."
   ]
  },
  {
   "cell_type": "code",
   "execution_count": 12,
   "metadata": {},
   "outputs": [],
   "source": [
    "# make a random split of 80% training and 20% validation data\n",
    "\n",
    "train_data, valid_data, train_targets, valid_targets = train_test_split(preprocessed_english_sentences, german_sequences_array, test_size=0.2, random_state=42)"
   ]
  },
  {
   "cell_type": "code",
   "execution_count": 13,
   "metadata": {},
   "outputs": [],
   "source": [
    "# transform the data into tf dataset objects\n",
    "rain_dataset = tf.data.Dataset.from_tensor_slices((train_data, train_targets))\n",
    "valid_dataset = tf.data.Dataset.from_tensor_slices((valid_data, valid_targets))"
   ]
  },
  {
   "cell_type": "code",
   "execution_count": 14,
   "metadata": {},
   "outputs": [
    {
     "name": "stdout",
     "output_type": "stream",
     "text": [
      "(TensorSpec(shape=(), dtype=tf.string, name=None), TensorSpec(shape=(14,), dtype=tf.int32, name=None))\n"
     ]
    }
   ],
   "source": [
    "print(train_dataset.element_spec)"
   ]
  },
  {
   "cell_type": "code",
   "execution_count": 15,
   "metadata": {},
   "outputs": [],
   "source": [
    "# Function to embed English sequences using the loaded embedding layer/model\n",
    "def embed_english_sequence(sequence):  \n",
    "    # Splitting english sentence at spaces\n",
    "    sequence = tf.strings.split(sequence)\n",
    "\n",
    "    # Embedding process here using the loaded embedding layer/model\n",
    "    embedded_sequence = embedding_layer(sequence)\n",
    "\n",
    "    return embedded_sequence\n",
    "\n",
    "# Map the embed_english_sequence function to both datasets\n",
    "train_dataset = train_dataset.map(lambda eng, ger: (embed_english_sequence(eng), ger))\n",
    "valid_dataset = valid_dataset.map(lambda eng, ger: (embed_english_sequence(eng), ger))\n"
   ]
  },
  {
   "cell_type": "code",
   "execution_count": 17,
   "metadata": {},
   "outputs": [],
   "source": [
    "# Function to filter sequences up to length of 13\n",
    "def filter_long_sequences(eng, ger):\n",
    "    return tf.shape(eng)[0] <= 13\n",
    "\n",
    "train_dataset = train_dataset.filter(filter_long_sequences)\n",
    "valid_dataset = valid_dataset.filter(filter_long_sequences)"
   ]
  },
  {
   "cell_type": "code",
   "execution_count": 18,
   "metadata": {},
   "outputs": [],
   "source": [
    "# Function to pad each English sequence of embeddings to length 13\n",
    "def pad_sequence(english, german):\n",
    "    english_padded = tf.pad(english, paddings=[[13-tf.shape(english)[0], 0],[0, 0]], constant_values=999999.0)\n",
    "    return english_padded, german\n",
    "\n",
    "# Map the pad_sentence function to both Dataset objects\n",
    "train_dataset = train_dataset.map(pad_sequence)\n",
    "valid_dataset = valid_dataset.map(pad_sequence)"
   ]
  },
  {
   "cell_type": "code",
   "execution_count": 19,
   "metadata": {},
   "outputs": [
    {
     "name": "stdout",
     "output_type": "stream",
     "text": [
      "Training Dataset element_spec: (TensorSpec(shape=(None, None, 128), dtype=tf.float32, name=None), TensorSpec(shape=(None, 14), dtype=tf.int32, name=None))\n",
      "Validation Dataset element_spec: (TensorSpec(shape=(None, None, 128), dtype=tf.float32, name=None), TensorSpec(shape=(None, 14), dtype=tf.int32, name=None))\n"
     ]
    }
   ],
   "source": [
    "# Batch both training and validation Datasets with a batch size of 16\n",
    "train_dataset = train_dataset.batch(16)\n",
    "valid_dataset = valid_dataset.batch(16)\n",
    "\n",
    "# Print the element_spec property for the training and validation Datasets\n",
    "print(\"Training Dataset element_spec:\", train_dataset.element_spec)\n",
    "print(\"Validation Dataset element_spec:\", valid_dataset.element_spec)"
   ]
  },
  {
   "cell_type": "code",
   "execution_count": 20,
   "metadata": {},
   "outputs": [
    {
     "name": "stdout",
     "output_type": "stream",
     "text": [
      "English data example shape:(16, 13, 128)\n",
      "German data example shape:(16, 14)\n",
      "English data example shape:(16, 13, 128)\n",
      "German data example shape:(16, 14)\n",
      "English data example shape:(16, 13, 128)\n",
      "German data example shape:(16, 14)\n",
      "English data example shape:(16, 13, 128)\n",
      "German data example shape:(16, 14)\n",
      "English data example shape:(16, 13, 128)\n",
      "German data example shape:(16, 14)\n"
     ]
    }
   ],
   "source": [
    "# show a sample of the preprocessed data so far\n",
    "element = train_dataset.take(5)\n",
    "for e in element:\n",
    "    print(f\"English data example shape:{e[0].shape}\")\n",
    "    print(f\"German data example shape:{e[1].shape}\")"
   ]
  },
  {
   "cell_type": "markdown",
   "metadata": {},
   "source": [
    "## 3. Create the custom layer\n",
    "You will now create a custom layer to add the learned end token embedding to the encoder model:\n",
    "\n",
    "![Encoder schematic](data/neural_translation_model_encoder.png)"
   ]
  },
  {
   "cell_type": "markdown",
   "metadata": {},
   "source": [
    "You should now build the custom layer.\n",
    "* Using layer subclassing, create a custom layer that takes a batch of English data examples from one of the Datasets, and adds a learned embedded ‘end’ token to the end of each sequence. \n",
    "* This layer should create a TensorFlow Variable (that will be learned during training) that is 128-dimensional (the size of the embedding space). _Hint: you may find it helpful in the call method to use the tf.tile function to replicate the end token embedding across every element in the batch._\n",
    "* Using the Dataset `.take(1)` method, extract a batch of English data examples from the training Dataset and print the shape. Test the custom layer by calling the layer on the English data batch Tensor and print the resulting Tensor shape (the layer should increase the sequence length by one)."
   ]
  },
  {
   "cell_type": "code",
   "execution_count": 21,
   "metadata": {},
   "outputs": [],
   "source": [
    "# a custom layer class that adds a trainable end token embedding\n",
    "class EndTokenLayer(tf.keras.layers.Layer):\n",
    "    def __init__(self, batch_size=16, embedding_dim=128, **kwargs):\n",
    "        super(EndTokenLayer, self).__init__(**kwargs)\n",
    "        self.embedding_dim = embedding_dim\n",
    "        self.batch_size = batch_size\n",
    "\n",
    "    def build(self, input_shape):\n",
    "        self.end_token = self.add_weight(\n",
    "            shape=(1, self.embedding_dim),\n",
    "            initializer='random_normal',\n",
    "            trainable=True,\n",
    "            name='end_token'\n",
    "        )\n",
    "\n",
    "    def call(self, inputs, *args):\n",
    "        end_token_batch = tf.expand_dims(tf.tile(self.end_token, tf.constant([self.batch_size, 1])), axis=1)\n",
    "        end_token_batch = tf.cast(end_token_batch, inputs.dtype)\n",
    "        \n",
    "        return tf.concat([inputs, end_token_batch], axis=1)\n"
   ]
  },
  {
   "cell_type": "code",
   "execution_count": 23,
   "metadata": {},
   "outputs": [
    {
     "name": "stdout",
     "output_type": "stream",
     "text": [
      "Original English data shape: (16, 13, 128)\n",
      "Modified English data shape: (16, 14, 128)\n"
     ]
    }
   ],
   "source": [
    "# Create an instance of the custom layer\n",
    "AddEndTokenLayer = EndTokenLayer()\n",
    "\n",
    "# Extract a batch of English data examples using take(1) and print the shape\n",
    "english_batch = next(iter(train_dataset.take(1)))[0]\n",
    "print(\"Original English data shape:\", english_batch.shape)\n",
    "\n",
    "# Pass the English data batch through the custom layer and print the resulting shape\n",
    "modified_english_batch = AddEndTokenLayer(english_batch)\n",
    "print(\"Modified English data shape:\", modified_english_batch.shape)"
   ]
  },
  {
   "cell_type": "markdown",
   "metadata": {},
   "source": [
    "## 4. Build the encoder network\n",
    "The encoder network follows the schematic diagram above. You should now build the RNN encoder model.\n",
    "* Using the functional API, build the encoder network according to the following spec:\n",
    "    * The model will take a batch of sequences of embedded English words as input, as given by the Dataset objects.\n",
    "    * The next layer in the encoder will be the custom layer you created previously, to add a learned end token embedding to the end of the English sequence.\n",
    "    * This is followed by a Masking layer, with the `mask_value` set to the distinct padding value you used when you padded the English sequences with the Dataset preprocessing above.\n",
    "    * The final layer is an LSTM layer with 512 units, which also returns the hidden and cell states.\n",
    "    * The encoder is a multi-output model. There should be two output Tensors of this model: the hidden state and cell states of the LSTM layer. The output of the LSTM layer is unused.\n",
    "* Using the Dataset `.take(1)` method, extract a batch of English data examples from the training Dataset and test the encoder model by calling it on the English data Tensor, and print the shape of the resulting Tensor outputs.\n",
    "* Print the model summary for the encoder network."
   ]
  },
  {
   "cell_type": "code",
   "execution_count": 24,
   "metadata": {},
   "outputs": [],
   "source": [
    "# Encoder model\n",
    "def create_encoder_model(sequence_len, embedding_dim, mask_value, AddEndTokenLayer, batch_size=16):\n",
    "    inputs = tf.keras.Input(shape=(sequence_len, embedding_dim))\n",
    "    AddEndTokenLayer = EndTokenLayer(batch_size, embedding_dim)\n",
    "    modified_inputs = AddEndTokenLayer(inputs)\n",
    "    masked_inputs = tf.keras.layers.Masking(mask_value=mask_value)(modified_inputs)\n",
    "    lstm_outputs, hidden_state, cell_state = tf.keras.layers.LSTM(512, return_state=True)(masked_inputs)\n",
    "    \n",
    "    encoder_model = tf.keras.Model(inputs=inputs, outputs=[hidden_state, cell_state])\n",
    "    \n",
    "    return encoder_model"
   ]
  },
  {
   "cell_type": "code",
   "execution_count": 25,
   "metadata": {},
   "outputs": [
    {
     "name": "stdout",
     "output_type": "stream",
     "text": [
      "WARNING:tensorflow:Entity <bound method EndTokenLayer.call of <__main__.EndTokenLayer object at 0x7ff8f05f60f0>> could not be transformed and will be executed as-is. Please report this to the AutoGraph team. When filing the bug, set the verbosity to 10 (on Linux, `export AUTOGRAPH_VERBOSITY=10`) and attach the full output. Cause: Failed to parse source code of <bound method EndTokenLayer.call of <__main__.EndTokenLayer object at 0x7ff8f05f60f0>>, which Python reported as:\n",
      "    def call(self, inputs, *args):\n",
      "        end_token_batch = tf.expand_dims(tf.tile(self.end_token, tf.constant([self.batch_size, 1])), axis=1)\n",
      "        end_token_batch = tf.cast(end_token_batch, inputs.dtype)\n",
      "#         print(\"inputs\",inputs.shape)\n",
      "#         print(\"end_token_batch\",end_token_batch.shape)\n",
      "        return tf.concat([inputs, end_token_batch], axis=1)\n",
      "\n",
      "This may be caused by multiline strings or comments not indented at the same level as the code.\n",
      "WARNING: Entity <bound method EndTokenLayer.call of <__main__.EndTokenLayer object at 0x7ff8f05f60f0>> could not be transformed and will be executed as-is. Please report this to the AutoGraph team. When filing the bug, set the verbosity to 10 (on Linux, `export AUTOGRAPH_VERBOSITY=10`) and attach the full output. Cause: Failed to parse source code of <bound method EndTokenLayer.call of <__main__.EndTokenLayer object at 0x7ff8f05f60f0>>, which Python reported as:\n",
      "    def call(self, inputs, *args):\n",
      "        end_token_batch = tf.expand_dims(tf.tile(self.end_token, tf.constant([self.batch_size, 1])), axis=1)\n",
      "        end_token_batch = tf.cast(end_token_batch, inputs.dtype)\n",
      "#         print(\"inputs\",inputs.shape)\n",
      "#         print(\"end_token_batch\",end_token_batch.shape)\n",
      "        return tf.concat([inputs, end_token_batch], axis=1)\n",
      "\n",
      "This may be caused by multiline strings or comments not indented at the same level as the code.\n",
      "Hidden State Shape: (16, 512)\n",
      "Cell State Shape: (16, 512)\n"
     ]
    }
   ],
   "source": [
    "# test encoder model\n",
    "encoder = create_encoder_model(13, 128, 999999.0, AddEndTokenLayer)\n",
    "english_batch = next(iter(train_dataset.take(1)))[0]  # Extract a batch of English data\n",
    "\n",
    "english_batch.shape\n",
    "\n",
    "hidden_state, cell_state = encoder(english_batch)\n",
    "print(\"Hidden State Shape:\", hidden_state.shape)\n",
    "print(\"Cell State Shape:\", cell_state.shape)"
   ]
  },
  {
   "cell_type": "markdown",
   "metadata": {},
   "source": [
    "## 5. Build the decoder network\n",
    "The decoder network follows the schematic diagram below. \n",
    "\n",
    "![Decoder schematic](data/neural_translation_model_decoder.png)"
   ]
  },
  {
   "cell_type": "markdown",
   "metadata": {},
   "source": [
    "You should now build the RNN decoder model.\n",
    "* Using Model subclassing, build the decoder network according to the following spec:\n",
    "    * The initializer should create the following layers:\n",
    "        * An Embedding layer with vocabulary size set to the number of unique German tokens, embedding dimension 128, and set to mask zero values in the input.\n",
    "        * An LSTM layer with 512 units, that returns its hidden and cell states, and also returns sequences.\n",
    "        * A Dense layer with number of units equal to the number of unique German tokens, and no activation function.\n",
    "    * The call method should include the usual `inputs` argument, as well as the additional keyword arguments `hidden_state` and `cell_state`. The default value for these keyword arguments should be `None`.\n",
    "    * The call method should pass the inputs through the Embedding layer, and then through the LSTM layer. If the `hidden_state` and `cell_state` arguments are provided, these should be used for the initial state of the LSTM layer. _Hint: use the_ `initial_state` _keyword argument when calling the LSTM layer on its input._\n",
    "    * The call method should pass the LSTM output sequence through the Dense layer, and return the resulting Tensor, along with the hidden and cell states of the LSTM layer.\n",
    "* Using the Dataset `.take(1)` method, extract a batch of English and German data examples from the training Dataset. Test the decoder model by first calling the encoder model on the English data Tensor to get the hidden and cell states, and then call the decoder model on the German data Tensor and hidden and cell states, and print the shape of the resulting decoder Tensor outputs.\n",
    "* Print the model summary for the decoder network."
   ]
  },
  {
   "cell_type": "code",
   "execution_count": 27,
   "metadata": {},
   "outputs": [],
   "source": [
    "class Decoder(tf.keras.Model):\n",
    "    def __init__(self, num_tokens, embedding_dim, lstm_units):\n",
    "        super(Decoder, self).__init__()\n",
    "        self.embedding = tf.keras.layers.Embedding(num_tokens, embedding_dim, mask_zero=True)\n",
    "        self.lstm = tf.keras.layers.LSTM(lstm_units, return_sequences=True, return_state=True)\n",
    "        self.dense = tf.keras.layers.Dense(num_tokens)\n",
    "\n",
    "    def call(self, inputs, hidden_state=None, cell_state=None):\n",
    "        embedded_inputs = self.embedding(inputs)\n",
    "        lstm_output, hidden_state, cell_state = self.lstm(embedded_inputs, initial_state=[hidden_state, cell_state])\n",
    "        decoder_output = self.dense(lstm_output)\n",
    "        \n",
    "        return decoder_output, hidden_state, cell_state\n",
    "\n"
   ]
  },
  {
   "cell_type": "code",
   "execution_count": 31,
   "metadata": {},
   "outputs": [
    {
     "name": "stdout",
     "output_type": "stream",
     "text": [
      "Hidden State Shape: (16, 512)\n",
      "Cell State Shape: (16, 512)\n",
      "decoder output Shape: (16, 14, 5743)\n"
     ]
    }
   ],
   "source": [
    "# test decoder model\n",
    "decoder = Decoder(len(german_tokenizer.word_index), 128, 512)\n",
    "\n",
    "german_batch = next(iter(train_dataset.take(1)))[1]\n",
    "decoder_output, decoder_hidden_state, decoder_cell_state = decoder(german_batch, hidden_state, cell_state)\n",
    "\n",
    "print(\"Hidden State Shape:\", decoder_hidden_state.shape)\n",
    "print(\"Cell State Shape:\", decoder_cell_state.shape)\n",
    "print(\"decoder output Shape:\", decoder_output.shape)"
   ]
  },
  {
   "cell_type": "code",
   "execution_count": 32,
   "metadata": {},
   "outputs": [
    {
     "name": "stdout",
     "output_type": "stream",
     "text": [
      "Model: \"decoder\"\n",
      "_________________________________________________________________\n",
      "Layer (type)                 Output Shape              Param #   \n",
      "=================================================================\n",
      "embedding (Embedding)        multiple                  735104    \n",
      "_________________________________________________________________\n",
      "lstm_1 (LSTM)                multiple                  1312768   \n",
      "_________________________________________________________________\n",
      "dense (Dense)                multiple                  2946159   \n",
      "=================================================================\n",
      "Total params: 4,994,031\n",
      "Trainable params: 4,994,031\n",
      "Non-trainable params: 0\n",
      "_________________________________________________________________\n"
     ]
    }
   ],
   "source": [
    "decoder.summary()"
   ]
  },
  {
   "cell_type": "markdown",
   "metadata": {},
   "source": [
    "## 6. Make a custom training loop\n",
    "You should now write a custom training loop to train your custom neural translation model.\n",
    "* Define a function that takes a Tensor batch of German data (as extracted from the training Dataset), and returns a tuple containing German inputs and outputs for the decoder model (refer to schematic diagram above).\n",
    "* Define a function that computes the forward and backward pass for your translation model. This function should take an English input, German input and German output as arguments, and should do the following:\n",
    "    * Pass the English input into the encoder, to get the hidden and cell states of the encoder LSTM.\n",
    "    * These hidden and cell states are then passed into the decoder, along with the German inputs, which returns a sequence of outputs (the hidden and cell state outputs of the decoder LSTM are unused in this function).\n",
    "    * The loss should then be computed between the decoder outputs and the German output function argument.\n",
    "    * The function returns the loss and gradients with respect to the encoder and decoder’s trainable variables.\n",
    "    * Decorate the function with @tf.function\n",
    "* Define and run a custom training loop for a number of epochs (for you to choose) that does the following:\n",
    "    * Iterates through the training dataset, and creates decoder inputs and outputs from the German sequences.\n",
    "    * Updates the parameters of the translation model using the gradients of the function above and an optimizer object.\n",
    "    * Every epoch, compute the validation loss on a number of batches from the validation and save the epoch training and validation losses.\n",
    "* Plot the learning curves for loss vs epoch for both training and validation sets.\n",
    "\n",
    "_Hint: This model is computationally demanding to train. The quality of the model or length of training is not a factor in the grading rubric. However, to obtain a better model we recommend using the GPU accelerator hardware on Colab._"
   ]
  },
  {
   "cell_type": "code",
   "execution_count": 33,
   "metadata": {},
   "outputs": [],
   "source": [
    "# Function to get German inputs and outputs for the decoder model\n",
    "def get_decoder_inputs_outputs(german_batch):\n",
    "    german_inputs = german_batch[:, :-1]  # German inputs (exclude last token)\n",
    "    german_outputs = german_batch[:, 1:]  # German outputs (exclude first token)\n",
    "    \n",
    "    return german_inputs, german_outputs"
   ]
  },
  {
   "cell_type": "code",
   "execution_count": 34,
   "metadata": {},
   "outputs": [],
   "source": [
    "# function for forward and backward pass to through translation model\n",
    "@tf.function\n",
    "def compute_loss(encoder, decoder, english_input, german_input, german_output, num_german_tokens):\n",
    "    with tf.GradientTape() as tape:\n",
    "        # Pass the English input through the encoder to get the hidden and cell states\n",
    "        hidden_state, cell_state = encoder(english_input)\n",
    "\n",
    "        # Pass the hidden and cell states along with the German input through the decoder\n",
    "        decoder_output, decoder_hidden_state, decoder_cell_state = decoder(german_input, hidden_state, cell_state)\n",
    "\n",
    "        # Compute the loss between the decoder output and the German output\n",
    "        german_output = tf.one_hot(german_output, depth=num_german_tokens)\n",
    "        loss = tf.keras.losses.categorical_crossentropy(\n",
    "            german_output, decoder_output, from_logits=True)\n",
    "\n",
    "    # Compute the gradients with respect to the encoder and decoder's trainable variables\n",
    "    variables = encoder.trainable_variables + decoder.trainable_variables\n",
    "    gradients = tape.gradient(loss, variables)\n",
    "\n",
    "    return loss, gradients"
   ]
  },
  {
   "cell_type": "code",
   "execution_count": 41,
   "metadata": {},
   "outputs": [],
   "source": [
    "# select data for model training\n",
    "training_data = train_dataset.take(10)\n",
    "validation_data = valid_dataset.take(10)"
   ]
  },
  {
   "cell_type": "code",
   "execution_count": 44,
   "metadata": {},
   "outputs": [
    {
     "name": "stdout",
     "output_type": "stream",
     "text": [
      "WARNING:tensorflow:Entity <bound method EndTokenLayer.call of <__main__.EndTokenLayer object at 0x7ff6fca029b0>> could not be transformed and will be executed as-is. Please report this to the AutoGraph team. When filing the bug, set the verbosity to 10 (on Linux, `export AUTOGRAPH_VERBOSITY=10`) and attach the full output. Cause: Failed to parse source code of <bound method EndTokenLayer.call of <__main__.EndTokenLayer object at 0x7ff6fca029b0>>, which Python reported as:\n",
      "    def call(self, inputs, *args):\n",
      "        end_token_batch = tf.expand_dims(tf.tile(self.end_token, tf.constant([self.batch_size, 1])), axis=1)\n",
      "        end_token_batch = tf.cast(end_token_batch, inputs.dtype)\n",
      "#         print(\"inputs\",inputs.shape)\n",
      "#         print(\"end_token_batch\",end_token_batch.shape)\n",
      "        return tf.concat([inputs, end_token_batch], axis=1)\n",
      "\n",
      "This may be caused by multiline strings or comments not indented at the same level as the code.\n",
      "WARNING: Entity <bound method EndTokenLayer.call of <__main__.EndTokenLayer object at 0x7ff6fca029b0>> could not be transformed and will be executed as-is. Please report this to the AutoGraph team. When filing the bug, set the verbosity to 10 (on Linux, `export AUTOGRAPH_VERBOSITY=10`) and attach the full output. Cause: Failed to parse source code of <bound method EndTokenLayer.call of <__main__.EndTokenLayer object at 0x7ff6fca029b0>>, which Python reported as:\n",
      "    def call(self, inputs, *args):\n",
      "        end_token_batch = tf.expand_dims(tf.tile(self.end_token, tf.constant([self.batch_size, 1])), axis=1)\n",
      "        end_token_batch = tf.cast(end_token_batch, inputs.dtype)\n",
      "#         print(\"inputs\",inputs.shape)\n",
      "#         print(\"end_token_batch\",end_token_batch.shape)\n",
      "        return tf.concat([inputs, end_token_batch], axis=1)\n",
      "\n",
      "This may be caused by multiline strings or comments not indented at the same level as the code.\n",
      "WARNING:tensorflow:Entity <bound method EndTokenLayer.call of <__main__.EndTokenLayer object at 0x7ff6fca029b0>> could not be transformed and will be executed as-is. Please report this to the AutoGraph team. When filing the bug, set the verbosity to 10 (on Linux, `export AUTOGRAPH_VERBOSITY=10`) and attach the full output. Cause: Failed to parse source code of <bound method EndTokenLayer.call of <__main__.EndTokenLayer object at 0x7ff6fca029b0>>, which Python reported as:\n",
      "    def call(self, inputs, *args):\n",
      "        end_token_batch = tf.expand_dims(tf.tile(self.end_token, tf.constant([self.batch_size, 1])), axis=1)\n",
      "        end_token_batch = tf.cast(end_token_batch, inputs.dtype)\n",
      "#         print(\"inputs\",inputs.shape)\n",
      "#         print(\"end_token_batch\",end_token_batch.shape)\n",
      "        return tf.concat([inputs, end_token_batch], axis=1)\n",
      "\n",
      "This may be caused by multiline strings or comments not indented at the same level as the code.\n",
      "WARNING: Entity <bound method EndTokenLayer.call of <__main__.EndTokenLayer object at 0x7ff6fca029b0>> could not be transformed and will be executed as-is. Please report this to the AutoGraph team. When filing the bug, set the verbosity to 10 (on Linux, `export AUTOGRAPH_VERBOSITY=10`) and attach the full output. Cause: Failed to parse source code of <bound method EndTokenLayer.call of <__main__.EndTokenLayer object at 0x7ff6fca029b0>>, which Python reported as:\n",
      "    def call(self, inputs, *args):\n",
      "        end_token_batch = tf.expand_dims(tf.tile(self.end_token, tf.constant([self.batch_size, 1])), axis=1)\n",
      "        end_token_batch = tf.cast(end_token_batch, inputs.dtype)\n",
      "#         print(\"inputs\",inputs.shape)\n",
      "#         print(\"end_token_batch\",end_token_batch.shape)\n",
      "        return tf.concat([inputs, end_token_batch], axis=1)\n",
      "\n",
      "This may be caused by multiline strings or comments not indented at the same level as the code.\n",
      "Epoch 1: Train Loss = 3.6733505725860596, Val Loss = 3.2893097400665283\n",
      "Epoch 2: Train Loss = 2.871880292892456, Val Loss = 2.9954917430877686\n",
      "Epoch 3: Train Loss = 2.599625825881958, Val Loss = 2.9801907539367676\n",
      "Epoch 4: Train Loss = 2.4449706077575684, Val Loss = 3.026911735534668\n",
      "Epoch 5: Train Loss = 2.297910451889038, Val Loss = 3.028094530105591\n",
      "Epoch 6: Train Loss = 2.151176929473877, Val Loss = 2.9570376873016357\n",
      "Epoch 7: Train Loss = 2.011134386062622, Val Loss = 2.770695686340332\n",
      "Epoch 8: Train Loss = 1.9091905355453491, Val Loss = 2.6507301330566406\n",
      "Epoch 9: Train Loss = 1.824602723121643, Val Loss = 2.5501978397369385\n",
      "Epoch 10: Train Loss = 1.7461141347885132, Val Loss = 2.4740488529205322\n"
     ]
    },
    {
     "data": {
      "image/png": "[encoded data removed]",
      "text/plain": [
       "<Figure size 432x288 with 1 Axes>"
      ]
     },
     "metadata": {
      "needs_background": "light"
     },
     "output_type": "display_data"
    }
   ],
   "source": [
    "# Define Encoder\n",
    "encoder = create_encoder_model(13, 128, 999999.0, AddEndTokenLayer, 16)\n",
    "\n",
    "# Define the optimizer\n",
    "optimizer = tf.keras.optimizers.Adam()\n",
    "\n",
    "# Define the number of epochs\n",
    "num_epochs = 10\n",
    "\n",
    "# Define learning rate\n",
    "lr = 0.1\n",
    "\n",
    "# Lists to store training and validation losses\n",
    "train_losses = []\n",
    "val_losses = []\n",
    "\n",
    "# Custom training loop\n",
    "for epoch in range(num_epochs):\n",
    "    epoch_train_loss = tf.keras.metrics.Mean()\n",
    "    epoch_val_loss = tf.keras.metrics.Mean()\n",
    "\n",
    "    # Training\n",
    "    for train_batch in training_data:\n",
    "        german_inputs, german_outputs = get_decoder_inputs_outputs(train_batch[1])\n",
    "\n",
    "        loss, gradients = compute_loss(encoder, decoder, train_batch[0], german_inputs, german_outputs, len(german_tokenizer.word_index))\n",
    "#         optimizer.apply_gradients(zip(gradients, encoder.trainable_variables + decoder.trainable_variables))\n",
    "        \n",
    "        gradients = [tf.convert_to_tensor(grad) if isinstance(grad, tf.IndexedSlices) else grad for grad in gradients]\n",
    "        grads_and_vars = zip(gradients, encoder.trainable_variables + decoder.trainable_variables)\n",
    "        grads_and_vars_with_lr = [(grad * lr, var) for grad, var in grads_and_vars]\n",
    "        optimizer.apply_gradients(grads_and_vars_with_lr)\n",
    "\n",
    "        epoch_train_loss(loss)\n",
    "\n",
    "    # Validation\n",
    "    for valid_batch in validation_data:\n",
    "        german_inputs, german_outputs = get_decoder_inputs_outputs(valid_batch[1])\n",
    "\n",
    "        loss, _ = compute_loss(encoder, decoder, valid_batch[0], german_inputs, german_outputs, len(german_tokenizer.word_index))\n",
    "\n",
    "        epoch_val_loss(loss)\n",
    "\n",
    "    train_losses.append(epoch_train_loss.result())\n",
    "    val_losses.append(epoch_val_loss.result())\n",
    "\n",
    "    print(\"Epoch {}: Train Loss = {}, Val Loss = {}\".format(epoch+1, epoch_train_loss.result(), epoch_val_loss.result()))\n",
    "\n",
    "# Plot the learning curves\n",
    "plt.plot(train_losses, label='Train Loss')\n",
    "plt.plot(val_losses, label='Val Loss')\n",
    "plt.xlabel('Epoch')\n",
    "plt.ylabel('Loss')\n",
    "plt.legend()\n",
    "plt.show()"
   ]
  },
  {
   "cell_type": "markdown",
   "metadata": {},
   "source": [
    "## 7. Use the model to translate\n",
    "Now it's time to put your model into practice! You should run your translation for five randomly sampled English sentences from the dataset. For each sentence, the process is as follows:\n",
    "* Preprocess and embed the English sentence according to the model requirements.\n",
    "* Pass the embedded sentence through the encoder to get the encoder hidden and cell states.\n",
    "* Starting with the special  `\"<start>\"` token, use this token and the final encoder hidden and cell states to get the one-step prediction from the decoder, as well as the decoder’s updated hidden and cell states.\n",
    "* Create a loop to get the next step prediction and updated hidden and cell states from the decoder, using the most recent hidden and cell states. Terminate the loop when the `\"<end>\"` token is emitted, or when the sentence has reached a maximum length.\n",
    "* Decode the output token sequence into German text and print the English text and the model's German translation."
   ]
  },
  {
   "cell_type": "code",
   "execution_count": 45,
   "metadata": {},
   "outputs": [],
   "source": [
    "# select a sample of english sentences to test the trained model\n",
    "np.random.shuffle(valid_data)\n",
    "valid_data = valid_data[:5]\n",
    "\n",
    "sample_sentences = tf.data.Dataset.from_tensor_slices((valid_data))"
   ]
  },
  {
   "cell_type": "code",
   "execution_count": 46,
   "metadata": {},
   "outputs": [
    {
     "name": "stdout",
     "output_type": "stream",
     "text": [
      "WARNING:tensorflow:Entity <bound method EndTokenLayer.call of <__main__.EndTokenLayer object at 0x7ff8602cc278>> could not be transformed and will be executed as-is. Please report this to the AutoGraph team. When filing the bug, set the verbosity to 10 (on Linux, `export AUTOGRAPH_VERBOSITY=10`) and attach the full output. Cause: Failed to parse source code of <bound method EndTokenLayer.call of <__main__.EndTokenLayer object at 0x7ff8602cc278>>, which Python reported as:\n",
      "    def call(self, inputs, *args):\n",
      "        end_token_batch = tf.expand_dims(tf.tile(self.end_token, tf.constant([self.batch_size, 1])), axis=1)\n",
      "        end_token_batch = tf.cast(end_token_batch, inputs.dtype)\n",
      "#         print(\"inputs\",inputs.shape)\n",
      "#         print(\"end_token_batch\",end_token_batch.shape)\n",
      "        return tf.concat([inputs, end_token_batch], axis=1)\n",
      "\n",
      "This may be caused by multiline strings or comments not indented at the same level as the code.\n",
      "WARNING: Entity <bound method EndTokenLayer.call of <__main__.EndTokenLayer object at 0x7ff8602cc278>> could not be transformed and will be executed as-is. Please report this to the AutoGraph team. When filing the bug, set the verbosity to 10 (on Linux, `export AUTOGRAPH_VERBOSITY=10`) and attach the full output. Cause: Failed to parse source code of <bound method EndTokenLayer.call of <__main__.EndTokenLayer object at 0x7ff8602cc278>>, which Python reported as:\n",
      "    def call(self, inputs, *args):\n",
      "        end_token_batch = tf.expand_dims(tf.tile(self.end_token, tf.constant([self.batch_size, 1])), axis=1)\n",
      "        end_token_batch = tf.cast(end_token_batch, inputs.dtype)\n",
      "#         print(\"inputs\",inputs.shape)\n",
      "#         print(\"end_token_batch\",end_token_batch.shape)\n",
      "        return tf.concat([inputs, end_token_batch], axis=1)\n",
      "\n",
      "This may be caused by multiline strings or comments not indented at the same level as the code.\n",
      "tf.Tensor([[4]], shape=(1, 1), dtype=int64)\n",
      "tf.Tensor([[4]], shape=(1, 1), dtype=int64)\n",
      "tf.Tensor([[4]], shape=(1, 1), dtype=int64)\n",
      "tf.Tensor([[3]], shape=(1, 1), dtype=int64)\n",
      "tf.Tensor([[2]], shape=(1, 1), dtype=int64)\n",
      "English:  tf.Tensor(b'tom is smiling .', shape=(), dtype=string)\n",
      "German Translation:  ich ich ich .\n",
      "\n",
      "tf.Tensor([[0]], shape=(1, 1), dtype=int64)\n",
      "tf.Tensor([[4]], shape=(1, 1), dtype=int64)\n",
      "tf.Tensor([[0]], shape=(1, 1), dtype=int64)\n",
      "tf.Tensor([[4]], shape=(1, 1), dtype=int64)\n",
      "tf.Tensor([[4]], shape=(1, 1), dtype=int64)\n",
      "tf.Tensor([[3]], shape=(1, 1), dtype=int64)\n",
      "tf.Tensor([[2]], shape=(1, 1), dtype=int64)\n",
      "English:  tf.Tensor(b\"you're an angel .\", shape=(), dtype=string)\n",
      "German Translation:  ich ich ich .\n",
      "\n",
      "tf.Tensor([[0]], shape=(1, 1), dtype=int64)\n",
      "tf.Tensor([[4]], shape=(1, 1), dtype=int64)\n",
      "tf.Tensor([[0]], shape=(1, 1), dtype=int64)\n",
      "tf.Tensor([[4]], shape=(1, 1), dtype=int64)\n",
      "tf.Tensor([[4]], shape=(1, 1), dtype=int64)\n",
      "tf.Tensor([[3]], shape=(1, 1), dtype=int64)\n",
      "tf.Tensor([[2]], shape=(1, 1), dtype=int64)\n",
      "English:  tf.Tensor(b'does he like me ?', shape=(), dtype=string)\n",
      "German Translation:  ich ich ich .\n",
      "\n",
      "tf.Tensor([[0]], shape=(1, 1), dtype=int64)\n",
      "tf.Tensor([[4]], shape=(1, 1), dtype=int64)\n",
      "tf.Tensor([[0]], shape=(1, 1), dtype=int64)\n",
      "tf.Tensor([[4]], shape=(1, 1), dtype=int64)\n",
      "tf.Tensor([[4]], shape=(1, 1), dtype=int64)\n",
      "tf.Tensor([[3]], shape=(1, 1), dtype=int64)\n",
      "tf.Tensor([[2]], shape=(1, 1), dtype=int64)\n",
      "English:  tf.Tensor(b\"my hair's wet .\", shape=(), dtype=string)\n",
      "German Translation:  ich ich ich .\n",
      "\n",
      "tf.Tensor([[0]], shape=(1, 1), dtype=int64)\n",
      "tf.Tensor([[4]], shape=(1, 1), dtype=int64)\n",
      "tf.Tensor([[0]], shape=(1, 1), dtype=int64)\n",
      "tf.Tensor([[4]], shape=(1, 1), dtype=int64)\n",
      "tf.Tensor([[4]], shape=(1, 1), dtype=int64)\n",
      "tf.Tensor([[3]], shape=(1, 1), dtype=int64)\n",
      "tf.Tensor([[2]], shape=(1, 1), dtype=int64)\n",
      "English:  tf.Tensor(b'what is his age ?', shape=(), dtype=string)\n",
      "German Translation:  ich ich ich .\n",
      "\n"
     ]
    }
   ],
   "source": [
    "MAX_OUTPUT_SENTENCE_LENGTH = 20\n",
    "encoder = create_encoder_model(13, 128, 999999.0, AddEndTokenLayer, 1)\n",
    "\n",
    "# Translate each sample sentence\n",
    "for sentence in sample_sentences:\n",
    "    # Preprocess and embed the English sentence\n",
    "    preprocessed_sentence = embed_english_sequence(sentence)\n",
    "    if filter_long_sequences(preprocessed_sentence, 42):\n",
    "        pass\n",
    "    else:\n",
    "        continue\n",
    "        \n",
    "    preprocessed_sentence, _ = pad_sequence(preprocessed_sentence, 42)\n",
    "\n",
    "    # Pass the preprocessed sentence through the encoder\n",
    "    encoder_input = tf.expand_dims(preprocessed_sentence, axis=0)\n",
    "#     print(encoder_input.shape)\n",
    "    hidden_state, cell_state = encoder(encoder_input)\n",
    "\n",
    "    # Initialize the decoder input with the start token\n",
    "    decoder_input = tf.expand_dims([german_tokenizer.word_index['<start>']], axis=0)\n",
    "\n",
    "    # Initialize an empty list to store the output tokens\n",
    "    output_tokens = []\n",
    "\n",
    "    # Create a loop to generate the output tokens\n",
    "    while True:\n",
    "        # Get the decoder output and updated hidden and cell states\n",
    "        decoder_output, hidden_state, cell_state = decoder(decoder_input, hidden_state, cell_state)\n",
    "\n",
    "        # Get the predicted token\n",
    "#         print(tf.argmax(decoder_output, axis=-1))\n",
    "        predicted_token = tf.argmax(decoder_output, axis=-1).numpy()[0][0]\n",
    "#         print(predicted_token)\n",
    "\n",
    "        # Terminate the loop if the predicted token is the end token or the sentence length exceeds the maximum\n",
    "        if predicted_token == german_tokenizer.word_index['<end>'] or len(output_tokens) >= MAX_OUTPUT_SENTENCE_LENGTH:\n",
    "            break\n",
    "\n",
    "        # Add the predicted token to the output token list\n",
    "        output_tokens.append(predicted_token)\n",
    "\n",
    "        # Prepare the decoder input for the next step\n",
    "        decoder_input = tf.expand_dims([predicted_token], axis=0)\n",
    "\n",
    "    # Convert the output tokens to German text\n",
    "    translated_sentence = german_tokenizer.sequences_to_texts([output_tokens])[0]\n",
    "\n",
    "    # Print the English text and the translated German text\n",
    "    print(\"English: \", sentence)\n",
    "    print(\"German Translation: \", translated_sentence)\n",
    "    print()"
   ]
  }
 ],
 "metadata": {
  "kernelspec": {
   "display_name": "Python 3",
   "language": "python",
   "name": "python3"
  },
  "language_info": {
   "codemirror_mode": {
    "name": "ipython",
    "version": 3
   },
   "file_extension": ".py",
   "mimetype": "text/x-python",
   "name": "python",
   "nbconvert_exporter": "python",
   "pygments_lexer": "ipython3",
   "version": "3.7.1"
  }
 },
 "nbformat": 4,
 "nbformat_minor": 2
}
